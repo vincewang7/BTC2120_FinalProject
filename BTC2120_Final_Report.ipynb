{
  "cells": [
    {
      "cell_type": "markdown",
      "metadata": {
        "id": "view-in-github",
        "colab_type": "text"
      },
      "source": [
        "<a href=\"https://colab.research.google.com/github/vincewang7/BTC2120_FinalProject/blob/main/BTC2120_Final_Report.ipynb\" target=\"_parent\"><img src=\"https://colab.research.google.com/assets/colab-badge.svg\" alt=\"Open In Colab\"/></a>"
      ]
    },
    {
      "cell_type": "markdown",
      "metadata": {
        "id": "Wr7fHKA9Ggrp"
      },
      "source": [
        "Importing Libraries"
      ]
    },
    {
      "cell_type": "code",
      "execution_count": null,
      "metadata": {
        "id": "uieFdOHvEn-p"
      },
      "outputs": [],
      "source": [
        "## Module Import\n",
        "import os\n",
        "import pandas as pd\n",
        "import numpy as np\n",
        "import matplotlib.pyplot as plt\n",
        "from mpl_toolkits.mplot3d import axes3d\n",
        "import seaborn as sns\n",
        "import re\n",
        "from sklearn.model_selection import train_test_split\n",
        "from sklearn.linear_model import LogisticRegression\n",
        "from sklearn.metrics import roc_auc_score, accuracy_score, confusion_matrix, mean_squared_error, r2_score, roc_curve\n",
        "from sklearn.preprocessing import StandardScaler, scale, OrdinalEncoder, LabelEncoder\n",
        "import sklearn.linear_model as skl_lm\n",
        "import statsmodels.api as sm\n",
        "import statsmodels.formula.api as smf\n",
        "\n",
        "import warnings\n",
        "warnings.filterwarnings('ignore')"
      ]
    },
    {
      "cell_type": "markdown",
      "metadata": {
        "id": "VSYS4wVJGNDt"
      },
      "source": [
        "Importing Data"
      ]
    },
    {
      "cell_type": "code",
      "execution_count": null,
      "metadata": {
        "id": "MSP8sMLJGYhm"
      },
      "outputs": [],
      "source": [
        "cvd_df = pd.read_csv('CVD_cleaned.csv')\n",
        "\n",
        "#Inputting the dependent variable as the last column in the dataframe\n",
        "cvd_df['Heart_Disease'] = cvd_df.pop('Heart_Disease')\n",
        "\n",
        "# view dataframe\n",
        "cvd_df.head()"
      ]
    },
    {
      "cell_type": "markdown",
      "metadata": {
        "id": "ryoI18SWHtse"
      },
      "source": [
        "Exploratory Data Analysis and Visualization"
      ]
    },
    {
      "cell_type": "code",
      "execution_count": null,
      "metadata": {
        "id": "EgxFmIm4H89Y"
      },
      "outputs": [],
      "source": [
        "# Descriptive statistics of dataframe\n",
        "cvd_df.describe()"
      ]
    },
    {
      "cell_type": "markdown",
      "metadata": {
        "id": "_v-ReDdvKOMv"
      },
      "source": [
        "Encoding numerical values to categorical values\n",
        "\n",
        "*   Exercise: 1 = Yes; 0 = No\n",
        "*   Skin_Cancer: 1 = Yes; 0 = No\n",
        "*   Other_Cancer: 1 = Yes; 0 = No\n",
        "*   Depression: 1 = Yes; 0 = No\n",
        "*   Arthritis: 1 = Yes; 0 = No\n",
        "*   Sex: 1 = Male; 0 = Female\n",
        "*   Age_Category: 12 = 80+; 11 = 75-79;10 = 70-74; 9 = 65-69; 8 = 60-64; 7 = 55-59; 6 = 50-54; 5 = 45-49; 4 = 40-44; 3 = 35-39; 2 = 30-34; 1 = 25-29; 0 = 18-24\n",
        "*   Smoking_History: 1 = Yes; 0 = No\n",
        "*   Heart_Disease: 1 = Yes; 0 = No\n",
        "*   Diabetes: 1 = Yes; 0 = No\n",
        "\n",
        "Checkup was coded as 5 levels:\n",
        "*    Never: 0\n",
        "*    5 or more years ago: 1\n",
        "*    Within the past 5 years: 2\n",
        "*    Within the past 2 years: 3\n",
        "*    Within the past year: 4\n",
        "        \n",
        "        \n",
        "General_Health was coded as 5 levels\n",
        "*   Poor = 0\n",
        "*   Fair = 1\n",
        "*   Good = 2\n",
        "*   Very Good = 3\n",
        "*   Excellent = 4"
      ]
    },
    {
      "cell_type": "code",
      "execution_count": null,
      "metadata": {
        "id": "3HF1hHiBPMP5"
      },
      "outputs": [],
      "source": [
        "#Categories that don't require specific encoding orders\n",
        "cat_cols = ['Exercise', 'Skin_Cancer', 'Other_Cancer', 'Depression', 'Arthritis', 'Sex', 'Age_Category', 'Smoking_History', 'Heart_Disease']\n",
        "\n",
        "def func_labelencoder(list1,features):\n",
        "    le = LabelEncoder()\n",
        "    features[list1] = le.fit_transform(features[list1].astype(str))\n",
        "\n",
        "cvd_df2 = cvd_df\n",
        "\n",
        "for i in cat_cols:\n",
        "    func_labelencoder(i,cvd_df2)\n",
        "\n",
        "# Adjust general health variable\n",
        "def translate_general_health(health_series):\n",
        "    # Dictionary mapping string labels to numerical values\n",
        "    health_translation = {\n",
        "        \"Poor\": 0,\n",
        "        \"Fair\": 1,\n",
        "        \"Good\": 2,\n",
        "        \"Very Good\": 3,\n",
        "        \"Excellent\": 4\n",
        "    }\n",
        "\n",
        "    return health_series.apply(lambda x: health_translation.get(x, None))\n",
        "\n",
        "cvd_df2[\"General_Health\"] = translate_general_health(cvd_df[\"General_Health\"])\n",
        "\n",
        "# Adjust checkup vairable\n",
        "def translate_checkup(checkup_series):\n",
        "    # Dictionary mapping string labels to numerical values\n",
        "    checkup_translation = {\n",
        "        \"Never\": 0,\n",
        "        \"5 or more years ago\": 1,\n",
        "        \"Within the past 5 years\": 2,\n",
        "        \"Within the past 2 years\": 3,\n",
        "        \"Within the past year\": 4\n",
        "    }\n",
        "\n",
        "    # Apply the translation to each element in the Series\n",
        "    return checkup_series.apply(lambda x: checkup_translation.get(x, None))\n",
        "\n",
        "cvd_df2[\"Checkup\"] = translate_checkup(cvd_df[\"Checkup\"])\n",
        "\n",
        "# Adjust diabetes variable\n",
        "\n",
        "def translate_diabetes(diabetes_series):\n",
        "    # Function to apply regex matching and translation\n",
        "    def regex_translate(value):\n",
        "        # Using regex to search for \"Yes\" or \"No\", ignoring case\n",
        "        if re.search(\"Yes\", value, re.IGNORECASE):\n",
        "            return 1\n",
        "        elif re.search(\"No\", value, re.IGNORECASE):\n",
        "            return 0\n",
        "        else:\n",
        "            return None\n",
        "\n",
        "    return diabetes_series.apply(regex_translate)\n",
        "\n",
        "cvd_df2[\"Diabetes\"] = translate_diabetes(cvd_df[\"Diabetes\"])"
      ]
    },
    {
      "cell_type": "code",
      "execution_count": null,
      "metadata": {
        "id": "vt3vbpzBvGtJ"
      },
      "outputs": [],
      "source": [
        "# Descriptive Statistics after adjusting variables\n",
        "cvd_df2.describe()"
      ]
    },
    {
      "cell_type": "code",
      "execution_count": null,
      "metadata": {
        "id": "hBMc-NxPri99",
        "scrolled": false
      },
      "outputs": [],
      "source": [
        "# EDA, frequency plots (categorical) and box and whisker (numerical) plots for variables\n",
        "from itertools import product\n",
        "import matplotlib.patheffects as path_effects\n",
        "\n",
        "#displaying categorical variables through frequency plots, and continuous variables through box-and-whisker plots\n",
        "countplot_cols = ['General_Health','Checkup', 'Age_Category', 'Exercise', 'Skin_Cancer', 'Other_Cancer', 'Depression', 'Arthritis','Sex', 'Smoking_History']\n",
        "boxplot_cols = ['General_Health', 'Checkup', 'Height_(cm)', 'Weight_(kg)', 'Age_Category', 'BMI', 'Alcohol_Consumption', 'Fruit_Consumption', 'Green_Vegetables_Consumption', 'FriedPotato_Consumption']\n",
        "\n",
        "#creating frequency plots for categorical variables\n",
        "for i, column in enumerate(countplot_cols):\n",
        "    ax = sns.countplot(x=column, hue = 'Heart_Disease', data=cvd_df2)\n",
        "    groups = cvd_df2[column].unique()\n",
        "    groups.sort()\n",
        "    proportions = cvd_df2.groupby(column)['Heart_Disease'].value_counts(normalize=True)\n",
        "    for c in ax.containers:\n",
        "        labels = [f'{proportions.loc[g, ax.containers.index(c)]:.1%}' for g in groups]\n",
        "        ax.bar_label(c, labels)\n",
        "    ax.set_title(f'Incidence of Heart Disease by {column.replace(\"_\", \" \")}')\n",
        "    plt.show()\n",
        "\n",
        "#creating box-and-whisker plots for continuous variables\n",
        "for i, column in enumerate(boxplot_cols):\n",
        "    ax = sns.boxplot(x='Heart_Disease', y=column, data=cvd_df2)\n",
        "    medians = cvd_df2.groupby(['Heart_Disease'])[column].median()\n",
        "    vertical_offset = cvd_df2[column].median() * -0.05\n",
        "    for xtick in ax.get_xticks():\n",
        "        text = ax.text(xtick,medians[xtick] + vertical_offset,medians[xtick], horizontalalignment='center',\n",
        "                       size='x-small', color='white', weight='semibold', bbox=dict(facecolor='#445A64'))\n",
        "    ax.set_title(f'{column.replace(\"_\", \" \")} by Heart Disease status')\n",
        "    plt.show()"
      ]
    },
    {
      "cell_type": "markdown",
      "metadata": {
        "id": "DkNg6O0sS2Rl"
      },
      "source": [
        "Checking for correlation"
      ]
    },
    {
      "cell_type": "code",
      "execution_count": null,
      "metadata": {
        "id": "1oYXanXeS2Fa",
        "scrolled": true,
        "colab": {
          "base_uri": "https://localhost:8080/",
          "height": 106
        },
        "outputId": "bd48837d-def0-45c4-9031-47d7c8bd2bde"
      },
      "outputs": [
        {
          "output_type": "error",
          "ename": "SyntaxError",
          "evalue": "invalid syntax (<ipython-input-1-0e7a625c90c8>, line 2)",
          "traceback": [
            "\u001b[0;36m  File \u001b[0;32m\"<ipython-input-1-0e7a625c90c8>\"\u001b[0;36m, line \u001b[0;32m2\u001b[0m\n\u001b[0;31m    corr_matrix = cvd_df2.drop(columns=['Heart_Disease'])corr()\u001b[0m\n\u001b[0m                                                         ^\u001b[0m\n\u001b[0;31mSyntaxError\u001b[0m\u001b[0;31m:\u001b[0m invalid syntax\n"
          ]
        }
      ],
      "source": [
        "# Calculate correlation matrix\n",
        "corr_matrix = cvd_df2.drop(columns=['Heart_Disease']).corr()\n",
        "\n",
        "# Create correlation heatmap\n",
        "mask = np.triu(np.ones_like(corr_matrix, dtype=bool))\n",
        "plt.figure(figsize=(10, 8))  # Adjust size as needed\n",
        "sns.heatmap(corr_matrix, mask=mask, annot=True, fmt=\".2f\", cmap='coolwarm', linewidths=.5)\n",
        "plt.title(\"Correlation Heatmap\")\n",
        "plt.show()"
      ]
    },
    {
      "cell_type": "markdown",
      "metadata": {
        "id": "VVe0QbPUNe-t"
      },
      "source": [
        "### MODEL 1: Univariate Linear Regressions"
      ]
    },
    {
      "cell_type": "code",
      "execution_count": null,
      "metadata": {
        "id": "_4QBsy01Cukg"
      },
      "outputs": [],
      "source": [
        "#Defining X and Y\n",
        "X = cvd_df2.drop(columns=['Heart_Disease'])\n",
        "y = cvd_df2['Heart_Disease']"
      ]
    },
    {
      "cell_type": "code",
      "execution_count": null,
      "metadata": {
        "id": "vt7tFnvRH0Yd",
        "colab": {
          "base_uri": "https://localhost:8080/",
          "height": 228
        },
        "outputId": "9f31ee3a-1ec2-4d80-d432-2d756f7e1fa0"
      },
      "outputs": [
        {
          "output_type": "stream",
          "name": "stdout",
          "text": [
            "Data types in X\n"
          ]
        },
        {
          "output_type": "error",
          "ename": "NameError",
          "evalue": "name 'X' is not defined",
          "traceback": [
            "\u001b[0;31m---------------------------------------------------------------------------\u001b[0m",
            "\u001b[0;31mNameError\u001b[0m                                 Traceback (most recent call last)",
            "\u001b[0;32m<ipython-input-2-fc5d325d363a>\u001b[0m in \u001b[0;36m<cell line: 4>\u001b[0;34m()\u001b[0m\n\u001b[1;32m      2\u001b[0m \u001b[0;31m#First - checking the data tpyes in the data set shows that there are different tpyes, which is throwing an error.\u001b[0m\u001b[0;34m\u001b[0m\u001b[0;34m\u001b[0m\u001b[0m\n\u001b[1;32m      3\u001b[0m \u001b[0mprint\u001b[0m\u001b[0;34m(\u001b[0m\u001b[0;34m\"Data types in X\"\u001b[0m\u001b[0;34m)\u001b[0m\u001b[0;34m\u001b[0m\u001b[0;34m\u001b[0m\u001b[0m\n\u001b[0;32m----> 4\u001b[0;31m \u001b[0mprint\u001b[0m\u001b[0;34m(\u001b[0m\u001b[0mX\u001b[0m\u001b[0;34m.\u001b[0m\u001b[0mdtypes\u001b[0m\u001b[0;34m)\u001b[0m\u001b[0;34m\u001b[0m\u001b[0;34m\u001b[0m\u001b[0m\n\u001b[0m\u001b[1;32m      5\u001b[0m \u001b[0mprint\u001b[0m\u001b[0;34m(\u001b[0m\u001b[0;34m\"Data types in y\"\u001b[0m\u001b[0;34m)\u001b[0m\u001b[0;34m\u001b[0m\u001b[0;34m\u001b[0m\u001b[0m\n\u001b[1;32m      6\u001b[0m \u001b[0mprint\u001b[0m\u001b[0;34m(\u001b[0m\u001b[0my\u001b[0m\u001b[0;34m.\u001b[0m\u001b[0mdtypes\u001b[0m\u001b[0;34m)\u001b[0m\u001b[0;34m\u001b[0m\u001b[0;34m\u001b[0m\u001b[0m\n",
            "\u001b[0;31mNameError\u001b[0m: name 'X' is not defined"
          ]
        }
      ],
      "source": [
        "#Changing all values to have the same data tpye - converting all columns to integers\n",
        "#First - checking the data tpyes in the data set shows that there are different tpyes, which is throwing an error.\n",
        "print(\"Data types in X\")\n",
        "print(X.dtypes)\n",
        "print(\"Data types in y\")\n",
        "print(y.dtypes)"
      ]
    },
    {
      "cell_type": "code",
      "execution_count": null,
      "metadata": {
        "id": "jP1Zpl8yOSxY",
        "colab": {
          "base_uri": "https://localhost:8080/",
          "height": 211
        },
        "outputId": "2450752f-946d-4a9a-8ac4-2d205945933a"
      },
      "outputs": [
        {
          "output_type": "error",
          "ename": "NameError",
          "evalue": "name 'y' is not defined",
          "traceback": [
            "\u001b[0;31m---------------------------------------------------------------------------\u001b[0m",
            "\u001b[0;31mNameError\u001b[0m                                 Traceback (most recent call last)",
            "\u001b[0;32m<ipython-input-3-5d22f0b9c492>\u001b[0m in \u001b[0;36m<cell line: 2>\u001b[0;34m()\u001b[0m\n\u001b[1;32m      1\u001b[0m \u001b[0;31m#Conducting univariate logistic regression using Logit over every independent variable\u001b[0m\u001b[0;34m\u001b[0m\u001b[0;34m\u001b[0m\u001b[0m\n\u001b[0;32m----> 2\u001b[0;31m \u001b[0my_train\u001b[0m \u001b[0;34m=\u001b[0m \u001b[0my\u001b[0m\u001b[0;34m\u001b[0m\u001b[0;34m\u001b[0m\u001b[0m\n\u001b[0m\u001b[1;32m      3\u001b[0m \u001b[0;34m\u001b[0m\u001b[0m\n\u001b[1;32m      4\u001b[0m \u001b[0;32mfor\u001b[0m \u001b[0mcolumn\u001b[0m \u001b[0;32min\u001b[0m \u001b[0mX\u001b[0m\u001b[0;34m:\u001b[0m\u001b[0;34m\u001b[0m\u001b[0;34m\u001b[0m\u001b[0m\n\u001b[1;32m      5\u001b[0m   \u001b[0mX_train\u001b[0m \u001b[0;34m=\u001b[0m \u001b[0msm\u001b[0m\u001b[0;34m.\u001b[0m\u001b[0madd_constant\u001b[0m\u001b[0;34m(\u001b[0m\u001b[0mcvd_df2\u001b[0m\u001b[0;34m[\u001b[0m\u001b[0;34m[\u001b[0m\u001b[0mcolumn\u001b[0m\u001b[0;34m]\u001b[0m\u001b[0;34m]\u001b[0m\u001b[0;34m)\u001b[0m\u001b[0;34m\u001b[0m\u001b[0;34m\u001b[0m\u001b[0m\n",
            "\u001b[0;31mNameError\u001b[0m: name 'y' is not defined"
          ]
        }
      ],
      "source": [
        "#Conducting univariate logistic regression using Logit over every independent variable\n",
        "y_train = y\n",
        "\n",
        "for column in X:\n",
        "  X_train = sm.add_constant(cvd_df2[[column]])\n",
        "  est = sm.Logit(y_train, X_train).fit()\n",
        "  print(est.summary())\n",
        "  X_train, X_test, y_train, y_test = train_test_split(X_train, y_train, test_size=0.3, random_state=42)\n",
        "  model = LogisticRegression(max_iter=1000)\n",
        "  model.fit(X_train, y_train)\n",
        "\n",
        "  # Predicting probabilities for the test set\n",
        "  y_prob = model.predict_proba(X_test)[:, 1] # Get the probabilities of the positive class\n",
        "\n",
        "  # Calculating the AUC\n",
        "  auc = roc_auc_score(y_test, y_prob)\n",
        "  print(f\"AUC: {auc}\")\n",
        "\n",
        "  # Predicting labels for the test set\n",
        "  y_pred = model.predict(X_test)\n",
        "\n",
        "  # Calculating the misclassification rate\n",
        "  misclassification_rate = 1 - accuracy_score(y_test, y_pred)\n",
        "  print(f\"Misclassification Rate: {misclassification_rate}\")"
      ]
    },
    {
      "cell_type": "markdown",
      "metadata": {
        "id": "6stMkwQsbMX1"
      },
      "source": [
        "#### Note for the next models\n",
        "Each model is trained using a 70/30 split and a constant random state"
      ]
    },
    {
      "cell_type": "markdown",
      "metadata": {
        "id": "XfIFflVKNiTy"
      },
      "source": [
        "### MODEL 2A: Multivariate Linear Regression"
      ]
    },
    {
      "cell_type": "code",
      "execution_count": null,
      "metadata": {
        "id": "4nB41jPiCymi"
      },
      "outputs": [],
      "source": [
        "X = cvd_df2.drop(columns=['Heart_Disease'])\n",
        "y = cvd_df2['Heart_Disease']\n",
        "\n",
        "est_mv = sm.Logit(y,X).fit()\n",
        "print(est_mv.summary())\n",
        "\n",
        "X_train, X_test, y_train, y_test = train_test_split(X, y, test_size=0.3, random_state=42)\n",
        "\n",
        "# Training the logistic regression model\n",
        "model = LogisticRegression(max_iter=1000)\n",
        "model.fit(X_train, y_train)\n",
        "\n",
        "# Predicting probabilities for the test set\n",
        "y_prob = model.predict_proba(X_test)[:, 1] # Get the probabilities of the positive class\n",
        "\n",
        "# Calculating the AUC\n",
        "auc = roc_auc_score(y_test, y_prob)\n",
        "print(f\"AUC: {auc}\")\n",
        "\n",
        "# Predicting labels for the test set\n",
        "y_pred = model.predict(X_test)\n",
        "\n",
        "# Calculating the misclassification rate\n",
        "misclassification_rate = 1 - accuracy_score(y_test, y_pred)\n",
        "print(f\"Misclassification Rate: {misclassification_rate}\")"
      ]
    },
    {
      "cell_type": "markdown",
      "metadata": {
        "id": "JoM3ZrupbMX1"
      },
      "source": [
        "**Significant Variables** : General_Health, Checkup, Skin_Cancer, Other_Cancer, Depression, Diabetes, Arthritis, Sex,\n",
        "Age_Category, Height_(cm), Weight_(kg), BMI, Smoking_History, Alcohol_Consumption\n",
        "\n",
        "**Insignificant Variables** : Exercise, Fruit_Consumption, Green_Vegetables_Consumption, FriedPotato_Consumption\n"
      ]
    },
    {
      "cell_type": "code",
      "execution_count": null,
      "metadata": {
        "id": "Djkcmg74NmQx"
      },
      "outputs": [],
      "source": [
        "# Multivariate regression using only significant varialbes from the multivariate regression above\n",
        "X = cvd_df2.drop(columns=['Heart_Disease', 'Exercise', 'Fruit_Consumption', 'Green_Vegetables_Consumption',\n",
        "                          'FriedPotato_Consumption'])\n",
        "y = cvd_df2['Heart_Disease']\n",
        "\n",
        "est_mv = sm.Logit(y,X).fit()\n",
        "print(est_mv.summary())\n",
        "\n",
        "X_train, X_test, y_train, y_test = train_test_split(X, y, test_size=0.3, random_state=42)\n",
        "\n",
        "# Training the logistic regression model\n",
        "model = LogisticRegression(max_iter=1000)\n",
        "model.fit(X_train, y_train)\n",
        "\n",
        "# Predicting probabilities for the test set\n",
        "y_prob = model.predict_proba(X_test)[:, 1] # Get the probabilities of the positive class\n",
        "\n",
        "# Calculating the AUC\n",
        "auc = roc_auc_score(y_test, y_prob)\n",
        "print(f\"AUC: {auc}\")\n",
        "\n",
        "# Predicting labels for the test set\n",
        "y_pred = model.predict(X_test)\n",
        "\n",
        "# Calculating the misclassification rate\n",
        "misclassification_rate = 1 - accuracy_score(y_test, y_pred)\n",
        "print(f\"Misclassification Rate: {misclassification_rate}\")\n",
        "\n",
        "# Compute ROC curve and ROC area\n",
        "fpr, tpr, _ = roc_curve(y_test, y_prob)\n",
        "\n",
        "# Plotting the ROC curve\n",
        "plt.figure(figsize=(8, 6))\n",
        "plt.plot(fpr, tpr, color='darkorange', lw=2, label='ROC curve (area = %0.2f)' % auc)\n",
        "plt.plot([0, 1], [0, 1], color='navy', lw=2, linestyle='--')\n",
        "plt.xlim([0.0, 1.0])\n",
        "plt.ylim([0.0, 1.05])\n",
        "plt.xlabel('False Positive Rate')\n",
        "plt.ylabel('True Positive Rate')\n",
        "plt.title('Receiver Operating Characteristic (ROC)')\n",
        "plt.legend(loc=\"lower right\")\n",
        "plt.show()"
      ]
    },
    {
      "cell_type": "markdown",
      "metadata": {
        "id": "MwapjGlMbMX2"
      },
      "source": [
        "### MODEL 2B: Multivariate Regression (remove multicollinearity)"
      ]
    },
    {
      "cell_type": "markdown",
      "metadata": {
        "id": "9k_uTWsvbMX2"
      },
      "source": [
        "Removing correlated variables, age and height create BMI, just remove them and use BMI since it standardizes the distribution"
      ]
    },
    {
      "cell_type": "code",
      "execution_count": null,
      "metadata": {
        "id": "r33Yg7Z5bMX2"
      },
      "outputs": [],
      "source": [
        "X = cvd_df2.drop(columns=['Heart_Disease', 'Exercise', 'Fruit_Consumption', 'Green_Vegetables_Consumption',\n",
        "                          'FriedPotato_Consumption', 'Height_(cm)', 'Weight_(kg)'])\n",
        "y = cvd_df2['Heart_Disease']\n",
        "\n",
        "est_mv = sm.Logit(y,X).fit()\n",
        "print(est_mv.summary())\n",
        "\n",
        "X_train, X_test, y_train, y_test = train_test_split(X, y, test_size=0.3, random_state=42)\n",
        "\n",
        "# Training the logistic regression model\n",
        "model = LogisticRegression(max_iter=1000)\n",
        "model.fit(X_train, y_train)\n",
        "\n",
        "# Predicting probabilities for the test set\n",
        "y_prob = model.predict_proba(X_test)[:, 1] # Get the probabilities of the positive class\n",
        "\n",
        "# Calculating the AUC\n",
        "auc = roc_auc_score(y_test, y_prob)\n",
        "print(f\"AUC: {auc}\")\n",
        "\n",
        "# Predicting labels for the test set\n",
        "y_pred = model.predict(X_test)\n",
        "\n",
        "# Calculating the misclassification rate\n",
        "misclassification_rate = 1 - accuracy_score(y_test, y_pred)\n",
        "print(f\"Misclassification Rate: {misclassification_rate}\")\n",
        "\n",
        "# Compute ROC curve and ROC area\n",
        "fpr, tpr, _ = roc_curve(y_test, y_prob)\n",
        "\n",
        "# Plotting the ROC curve\n",
        "plt.figure(figsize=(8, 6))\n",
        "plt.plot(fpr, tpr, color='darkorange', lw=2, label='ROC curve (area = %0.2f)' % auc)\n",
        "plt.plot([0, 1], [0, 1], color='navy', lw=2, linestyle='--')\n",
        "plt.xlim([0.0, 1.0])\n",
        "plt.ylim([0.0, 1.05])\n",
        "plt.xlabel('False Positive Rate')\n",
        "plt.ylabel('True Positive Rate')\n",
        "plt.title('Receiver Operating Characteristic (ROC)')\n",
        "plt.legend(loc=\"lower right\")\n",
        "plt.show()"
      ]
    },
    {
      "cell_type": "markdown",
      "metadata": {
        "id": "1ek8-ucRbMX2"
      },
      "source": [
        "### MODEL 2C: Multivariate Regression + Interactive Terms\n",
        "As seen in the correlation matrix and based on prior domain knowledge, height is very dependant on the persons sex (male v female). Using an interaction term between the variables Sex and Height could prove useful for the analysis. Additionally the following interactive terms were also generated:\n",
        "*   General_Health x Checkup\n",
        "*   Skin_Cancer x Other Cancer\n",
        "*   Smoking History x Alcohol Consumption"
      ]
    },
    {
      "cell_type": "code",
      "execution_count": null,
      "metadata": {
        "id": "PP4HYozmbMX2"
      },
      "outputs": [],
      "source": [
        "cvd_df3 = cvd_df2\n",
        "cvd_df3['Sex*Height'] = cvd_df3['Sex'] * cvd_df3['Height_(cm)']\n",
        "cvd_df3['General_Health*Checkup'] = cvd_df3['General_Health'] * cvd_df3['Checkup']\n",
        "cvd_df3['Smoking_History*Alcohol_Consumption'] = cvd_df3['Alcohol_Consumption'] * cvd_df3['Smoking_History']\n",
        "\n",
        "X = cvd_df3.drop(columns=['Heart_Disease', 'Exercise', 'Fruit_Consumption', 'Green_Vegetables_Consumption',\n",
        "                          'FriedPotato_Consumption'])\n",
        "y = cvd_df3['Heart_Disease']\n",
        "\n",
        "est_mv = sm.Logit(y,X).fit()\n",
        "print(est_mv.summary())\n",
        "\n",
        "X_train, X_test, y_train, y_test = train_test_split(X, y, test_size=0.3, random_state=42)\n",
        "\n",
        "# Training the logistic regression model\n",
        "model = LogisticRegression(max_iter=1000)\n",
        "model.fit(X_train, y_train)\n",
        "\n",
        "# Predicting probabilities for the test set\n",
        "y_prob = model.predict_proba(X_test)[:, 1] # Get the probabilities of the positive class\n",
        "\n",
        "# Calculating the AUC\n",
        "auc = roc_auc_score(y_test, y_prob)\n",
        "print(f\"AUC: {auc}\")\n",
        "\n",
        "# Predicting labels for the test set\n",
        "y_pred = model.predict(X_test)\n",
        "\n",
        "# Calculating the misclassification rate\n",
        "misclassification_rate = 1 - accuracy_score(y_test, y_pred)\n",
        "print(f\"Misclassification Rate: {misclassification_rate}\")\n",
        "\n",
        "# Compute ROC curve and ROC area\n",
        "fpr, tpr, _ = roc_curve(y_test, y_prob)\n",
        "\n",
        "# Plotting the ROC curve\n",
        "plt.figure(figsize=(8, 6))\n",
        "plt.plot(fpr, tpr, color='darkorange', lw=2, label='ROC curve (area = %0.2f)' % auc)\n",
        "plt.plot([0, 1], [0, 1], color='navy', lw=2, linestyle='--')\n",
        "plt.xlim([0.0, 1.0])\n",
        "plt.ylim([0.0, 1.05])\n",
        "plt.xlabel('False Positive Rate')\n",
        "plt.ylabel('True Positive Rate')\n",
        "plt.title('Receiver Operating Characteristic (ROC)')\n",
        "plt.legend(loc=\"lower right\")\n",
        "plt.show()"
      ]
    },
    {
      "cell_type": "markdown",
      "metadata": {
        "id": "GKNraQbwbMX2"
      },
      "source": [
        "### MODEL 3: Lasso Regularization\n",
        "Lasso is a penalty technique that can be used in regression to help reduce the weight/effect of unwanted variables while keeping them in the model. This can potentially provide higher classification by choosing more meaningful predictors when their are many features to choose from"
      ]
    },
    {
      "cell_type": "code",
      "execution_count": null,
      "metadata": {
        "id": "pKVvhpvqbMX2",
        "outputId": "283f9d78-9679-46fb-c7b4-f6209de53df2"
      },
      "outputs": [
        {
          "name": "stdout",
          "output_type": "stream",
          "text": [
            "AUC: 0.8368007209816706\n",
            "Accuracy: 0.918991549478183\n",
            "Misclassification Rate: 0.08100845052181704\n",
            "                              Coefficient\n",
            "Age_Category                     0.947643\n",
            "Sex                              0.398707\n",
            "Smoking_History                  0.189377\n",
            "Diabetes                         0.176747\n",
            "Checkup                          0.149512\n",
            "Arthritis                        0.119240\n",
            "Depression                       0.096978\n",
            "Skin_Cancer                      0.030511\n",
            "BMI                              0.014815\n",
            "Other_Cancer                     0.010548\n",
            "Green_Vegetables_Consumption     0.007460\n",
            "Fruit_Consumption                0.000000\n",
            "FriedPotato_Consumption          0.000000\n",
            "Weight_(kg)                      0.000000\n",
            "Exercise                        -0.009768\n",
            "Height_(cm)                     -0.030109\n",
            "Alcohol_Consumption             -0.066397\n",
            "General_Health                  -0.596210\n"
          ]
        }
      ],
      "source": [
        "# Preparing the data\n",
        "X = cvd_df2.drop(columns=['Heart_Disease'])\n",
        "y = cvd_df2['Heart_Disease']\n",
        "\n",
        "# Splitting the dataset\n",
        "X_train, X_test, y_train, y_test = train_test_split(X, y, test_size=0.3, random_state=42)\n",
        "\n",
        "# It's often a good idea to scale your data for regularization to work properly\n",
        "scaler = StandardScaler()\n",
        "X_train_scaled = scaler.fit_transform(X_train)\n",
        "X_test_scaled = scaler.transform(X_test)\n",
        "\n",
        "# Setting up the model with L1 penalty\n",
        "model = LogisticRegression(penalty='l1', solver='liblinear', C=0.013, max_iter=1000)\n",
        "\n",
        "# Training the model\n",
        "model.fit(X_train_scaled, y_train)\n",
        "\n",
        "# Making predictions\n",
        "y_prob = model.predict_proba(X_test_scaled)[:, 1] # Probabilities\n",
        "y_pred = model.predict(X_test_scaled) # Predicted classes\n",
        "\n",
        "# Evaluating the model\n",
        "auc = roc_auc_score(y_test, y_prob)\n",
        "accuracy = accuracy_score(y_test, y_pred)\n",
        "misclassification_rate = 1 - accuracy\n",
        "\n",
        "print(f\"AUC: {auc}\")\n",
        "print(f\"Misclassification Rate: {misclassification_rate}\")\n",
        "\n",
        "\n",
        "# Compute ROC curve and ROC area\n",
        "fpr, tpr, _ = roc_curve(y_test, y_prob)\n",
        "\n",
        "# Plotting the ROC curve\n",
        "plt.figure(figsize=(8, 6))\n",
        "plt.plot(fpr, tpr, color='darkorange', lw=2, label='ROC curve (area = %0.2f)' % auc)\n",
        "plt.plot([0, 1], [0, 1], color='navy', lw=2, linestyle='--')\n",
        "plt.xlim([0.0, 1.0])\n",
        "plt.ylim([0.0, 1.05])\n",
        "plt.xlabel('False Positive Rate')\n",
        "plt.ylabel('True Positive Rate')\n",
        "plt.title('Receiver Operating Characteristic (ROC)')\n",
        "plt.legend(loc=\"lower right\")\n",
        "plt.show()\n",
        "\n",
        "\n",
        "# Examine the coefficients\n",
        "coefficients = pd.DataFrame(model.coef_.flatten(), index=X.columns, columns=['Coefficient']).sort_values(by='Coefficient', ascending=False)\n",
        "print(coefficients)"
      ]
    }
  ],
  "metadata": {
    "colab": {
      "provenance": [],
      "include_colab_link": true
    },
    "kernelspec": {
      "display_name": "Python 3 (ipykernel)",
      "language": "python",
      "name": "python3"
    },
    "language_info": {
      "codemirror_mode": {
        "name": "ipython",
        "version": 3
      },
      "file_extension": ".py",
      "mimetype": "text/x-python",
      "name": "python",
      "nbconvert_exporter": "python",
      "pygments_lexer": "ipython3",
      "version": "3.10.10"
    }
  },
  "nbformat": 4,
  "nbformat_minor": 0
}